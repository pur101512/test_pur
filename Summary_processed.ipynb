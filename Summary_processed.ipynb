{
  "nbformat": 4,
  "nbformat_minor": 0,
  "metadata": {
    "colab": {
      "provenance": []
    },
    "kernelspec": {
      "name": "python3",
      "display_name": "Python 3"
    },
    "language_info": {
      "name": "python"
    }
  },
  "cells": [
    {
      "cell_type": "code",
      "execution_count": 1,
      "metadata": {
        "colab": {
          "base_uri": "https://localhost:8080/"
        },
        "id": "912vUTEiSsdU",
        "outputId": "04ff4318-463d-4199-d33f-11da5b986fab"
      },
      "outputs": [
        {
          "output_type": "stream",
          "name": "stderr",
          "text": [
            "[nltk_data] Downloading package stopwords to /root/nltk_data...\n",
            "[nltk_data]   Unzipping corpora/stopwords.zip.\n",
            "[nltk_data] Downloading package wordnet to /root/nltk_data...\n"
          ]
        },
        {
          "output_type": "stream",
          "name": "stdout",
          "text": [
            "✅ New file created: final_preprocessed_dataset_updated.csv with Summary_Preprocessed column\n"
          ]
        }
      ],
      "source": [
        "import pandas as pd\n",
        "import nltk\n",
        "from nltk.corpus import stopwords\n",
        "from nltk.stem import WordNetLemmatizer\n",
        "import re\n",
        "\n",
        "# Download resources (only first time)\n",
        "nltk.download('stopwords')\n",
        "nltk.download('wordnet')\n",
        "\n",
        "# Load file\n",
        "df = pd.read_csv(\"/content/final_preprocessed_dataset.csv\")\n",
        "\n",
        "# Initialize NLP tools\n",
        "stop_words = set(stopwords.words('english'))\n",
        "lemmatizer = WordNetLemmatizer()\n",
        "\n",
        "# Add any contact-center fillers you wish to drop\n",
        "extra_stops = {\"please\", \"kindly\", \"hello\", \"hi\", \"thank\", \"thanks\", \"sir\", \"madam\", \"\"}\n",
        "stop_words.update(extra_stops)\n",
        "\n",
        "# Preprocessing function\n",
        "def preprocess_summary(text):\n",
        "    if pd.isna(text):\n",
        "        return \"\"\n",
        "    text = text.lower()\n",
        "    text = re.sub(r'[^a-z\\s]', ' ', text)        # keep only letters\n",
        "    tokens = text.split()\n",
        "    tokens = [w for w in tokens if w not in stop_words]\n",
        "    tokens = [lemmatizer.lemmatize(w) for w in tokens]\n",
        "    return \" \".join(tokens)\n",
        "\n",
        "# Apply preprocessing\n",
        "df[\"Summary_Preprocessed\"] = df[\"Summary\"].astype(str).apply(preprocess_summary)\n",
        "\n",
        "# Save with new column\n",
        "df.to_csv(\"final_preprocessed_dataset_updated.csv\", index=False)\n",
        "print(\"✅ New file created: final_preprocessed_dataset_updated.csv with Summary_Preprocessed column\")\n"
      ]
    },
    {
      "cell_type": "code",
      "source": [],
      "metadata": {
        "id": "i2fdq_S_USbM"
      },
      "execution_count": null,
      "outputs": []
    }
  ]
}