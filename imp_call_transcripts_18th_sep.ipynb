{
  "nbformat": 4,
  "nbformat_minor": 0,
  "metadata": {
    "colab": {
      "provenance": []
    },
    "kernelspec": {
      "name": "python3",
      "display_name": "Python 3"
    },
    "language_info": {
      "name": "python"
    }
  },
  "cells": [
    {
      "cell_type": "code",
      "execution_count": null,
      "metadata": {
        "id": "qQN15guY6KZt"
      },
      "outputs": [],
      "source": []
    },
    {
      "cell_type": "code",
      "source": [
        "import pandas as pd\n",
        "import ast\n",
        "import json\n",
        "\n",
        "# Load the data\n",
        "file_path = \"/content/drive/MyDrive/sample_1111.xlsx\"\n",
        "df = pd.read_excel(file_path, sheet_name=\"Sheet1\")\n",
        "\n",
        "# ---------- Flatten Complaint Dictionary ----------\n",
        "def parse_complaint(complaint_str):\n",
        "    if pd.isna(complaint_str):\n",
        "        return {}\n",
        "    try:\n",
        "        return json.loads(complaint_str.replace(\"'\", '\"'))  # fix formatting if needed\n",
        "    except:\n",
        "        try:\n",
        "            return ast.literal_eval(complaint_str)\n",
        "        except:\n",
        "            return {}\n",
        "\n",
        "complaints = df[\"Complaint\"].apply(parse_complaint)\n",
        "complaints_df = pd.json_normalize(complaints)\n",
        "\n",
        "# Rename complaint columns\n",
        "complaints_df.columns = [f\"Complaint_{c}\" for c in complaints_df.columns]\n",
        "\n",
        "# ---------- Flatten Call Flags ----------\n",
        "def parse_flags(flags_str):\n",
        "    if pd.isna(flags_str):\n",
        "        return []\n",
        "    try:\n",
        "        return json.loads(flags_str.replace(\"'\", '\"'))\n",
        "    except:\n",
        "        try:\n",
        "            return ast.literal_eval(flags_str)\n",
        "        except:\n",
        "            return []\n",
        "\n",
        "flags = df[\"Call Flags\"].apply(parse_flags)\n",
        "\n",
        "# Convert flags into indicator columns\n",
        "all_flag_titles = set()\n",
        "for f in flags:\n",
        "    if isinstance(f, list):\n",
        "        for entry in f:\n",
        "            if isinstance(entry, dict) and \"title\" in entry:\n",
        "                all_flag_titles.add(entry[\"title\"])\n",
        "\n",
        "for title in all_flag_titles:\n",
        "    df[f\"Flag_{title.replace(' ', '_')}\"] = flags.apply(\n",
        "        lambda x: 1 if isinstance(x, list) and any(entry.get(\"title\") == title for entry in x) else 0\n",
        "    )\n",
        "\n",
        "# ---------- Merge back ----------\n",
        "df = pd.concat([df, complaints_df], axis=1)\n",
        "\n",
        "# Save the cleaned dataset for Power BI\n",
        "df.to_excel(\"/content/drive/MyDrive/final_transformed_transcripts.xlsx\", index=False)\n",
        "\n",
        "print(\"✅ Transformation complete. New file: transformed_transcripts.xlsx\")\n"
      ],
      "metadata": {
        "colab": {
          "base_uri": "https://localhost:8080/"
        },
        "id": "eFO17OYX6vAj",
        "outputId": "d1a17579-1e46-42ae-915d-a32ea899bbad"
      },
      "execution_count": 1,
      "outputs": [
        {
          "output_type": "stream",
          "name": "stdout",
          "text": [
            "✅ Transformation complete. New file: transformed_transcripts.xlsx\n"
          ]
        }
      ]
    },
    {
      "cell_type": "code",
      "source": [],
      "metadata": {
        "id": "jx9V8IaQ_EaG"
      },
      "execution_count": null,
      "outputs": []
    }
  ]
}